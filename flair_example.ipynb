{
 "cells": [
  {
   "cell_type": "code",
   "execution_count": 1,
   "metadata": {
    "ExecuteTime": {
     "end_time": "2021-08-20T14:03:07.505096Z",
     "start_time": "2021-08-20T14:03:03.895976Z"
    }
   },
   "outputs": [],
   "source": [
    "import flair"
   ]
  },
  {
   "cell_type": "code",
   "execution_count": 2,
   "metadata": {
    "ExecuteTime": {
     "end_time": "2021-08-20T14:03:12.652829Z",
     "start_time": "2021-08-20T14:03:07.506987Z"
    }
   },
   "outputs": [
    {
     "name": "stdout",
     "output_type": "stream",
     "text": [
      "2021-08-20 19:33:07,507 loading file C:\\Users\\Rushi.Soni\\.flair\\models\\sentiment-en-mix-distillbert_4.pt\n"
     ]
    }
   ],
   "source": [
    "model = flair.models.TextClassifier.load('en-sentiment')"
   ]
  },
  {
   "cell_type": "code",
   "execution_count": 3,
   "metadata": {
    "ExecuteTime": {
     "end_time": "2021-08-20T14:03:12.665831Z",
     "start_time": "2021-08-20T14:03:12.654831Z"
    }
   },
   "outputs": [
    {
     "data": {
      "text/plain": [
       "Sentence: \"movie was very good\"   [− Tokens: 4]"
      ]
     },
     "execution_count": 3,
     "metadata": {},
     "output_type": "execute_result"
    }
   ],
   "source": [
    "text = r'movie was very good'\n",
    "sentence = flair.data.Sentence(text)\n",
    "sentence"
   ]
  },
  {
   "cell_type": "code",
   "execution_count": 4,
   "metadata": {
    "ExecuteTime": {
     "end_time": "2021-08-20T14:03:12.673832Z",
     "start_time": "2021-08-20T14:03:12.667833Z"
    }
   },
   "outputs": [
    {
     "data": {
      "text/plain": [
       "'movie was very good'"
      ]
     },
     "execution_count": 4,
     "metadata": {},
     "output_type": "execute_result"
    }
   ],
   "source": [
    "sentence.to_tokenized_string()"
   ]
  },
  {
   "cell_type": "code",
   "execution_count": 5,
   "metadata": {
    "ExecuteTime": {
     "end_time": "2021-08-20T14:03:12.708832Z",
     "start_time": "2021-08-20T14:03:12.675833Z"
    }
   },
   "outputs": [],
   "source": [
    "model.predict(sentence)"
   ]
  },
  {
   "cell_type": "code",
   "execution_count": 6,
   "metadata": {
    "ExecuteTime": {
     "end_time": "2021-08-20T14:03:12.716833Z",
     "start_time": "2021-08-20T14:03:12.710835Z"
    }
   },
   "outputs": [
    {
     "data": {
      "text/plain": [
       "'POSITIVE'"
      ]
     },
     "execution_count": 6,
     "metadata": {},
     "output_type": "execute_result"
    }
   ],
   "source": [
    "sentence.get_labels()[0].value"
   ]
  },
  {
   "cell_type": "code",
   "execution_count": 7,
   "metadata": {
    "ExecuteTime": {
     "end_time": "2021-08-20T14:03:12.725832Z",
     "start_time": "2021-08-20T14:03:12.719835Z"
    }
   },
   "outputs": [
    {
     "data": {
      "text/plain": [
       "0.9492097496986389"
      ]
     },
     "execution_count": 7,
     "metadata": {},
     "output_type": "execute_result"
    }
   ],
   "source": [
    "sentence.get_labels()[0].score"
   ]
  },
  {
   "cell_type": "code",
   "execution_count": 8,
   "metadata": {
    "ExecuteTime": {
     "end_time": "2021-08-20T14:03:12.764831Z",
     "start_time": "2021-08-20T14:03:12.728832Z"
    }
   },
   "outputs": [
    {
     "data": {
      "text/plain": [
       "[NEGATIVE (0.9386)]"
      ]
     },
     "execution_count": 8,
     "metadata": {},
     "output_type": "execute_result"
    }
   ],
   "source": [
    "text = r'movie was very good. character and some actors did not work well.'\n",
    "sentence = flair.data.Sentence(text)\n",
    "model.predict(sentence)\n",
    "sentence.get_labels()"
   ]
  },
  {
   "cell_type": "code",
   "execution_count": 9,
   "metadata": {
    "ExecuteTime": {
     "end_time": "2021-08-20T14:03:12.772831Z",
     "start_time": "2021-08-20T14:03:12.766832Z"
    }
   },
   "outputs": [
    {
     "data": {
      "text/plain": [
       "Sentence: \"movie was very good . character and some actors did not work well .\"   [− Tokens: 14  − Sentence-Labels: {'label': [NEGATIVE (0.9386)]}]"
      ]
     },
     "execution_count": 9,
     "metadata": {},
     "output_type": "execute_result"
    }
   ],
   "source": [
    "sentence"
   ]
  },
  {
   "cell_type": "code",
   "execution_count": null,
   "metadata": {},
   "outputs": [],
   "source": []
  }
 ],
 "metadata": {
  "kernelspec": {
   "display_name": "transformers_dl",
   "language": "python",
   "name": "transformers_dl"
  },
  "language_info": {
   "codemirror_mode": {
    "name": "ipython",
    "version": 3
   },
   "file_extension": ".py",
   "mimetype": "text/x-python",
   "name": "python",
   "nbconvert_exporter": "python",
   "pygments_lexer": "ipython3",
   "version": "3.7.10"
  }
 },
 "nbformat": 4,
 "nbformat_minor": 4
}
