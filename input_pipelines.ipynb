{
 "cells": [
  {
   "cell_type": "code",
   "execution_count": 1,
   "metadata": {
    "ExecuteTime": {
     "end_time": "2021-09-17T10:57:16.337764Z",
     "start_time": "2021-09-17T10:57:12.993345Z"
    }
   },
   "outputs": [],
   "source": [
    "import pandas as pd\n",
    "import numpy as np\n",
    "files_path = r'C:\\Users\\Rushi.Soni\\Documents\\topic_modeling\\data'\n",
    "import os\n",
    "os.chdir(files_path)\n",
    "import tensorflow as tf"
   ]
  },
  {
   "cell_type": "code",
   "execution_count": 2,
   "metadata": {
    "ExecuteTime": {
     "end_time": "2021-09-17T10:57:16.416770Z",
     "start_time": "2021-09-17T10:57:16.339416Z"
    }
   },
   "outputs": [
    {
     "name": "stdout",
     "output_type": "stream",
     "text": [
      "(8529, 512) (8529, 512) (8529, 5)\n"
     ]
    }
   ],
   "source": [
    "with open('movie-xids.npy','rb') as f:\n",
    "    xids = np.load(f, allow_pickle=True)\n",
    "with open('movie-masks.npy','rb') as f:\n",
    "    masks = np.load(f, allow_pickle=True)\n",
    "with open('movie-labels.npy','rb') as f:\n",
    "    labels = np.load(f, allow_pickle=True)\n",
    "print(xids.shape, masks.shape, labels.shape)"
   ]
  },
  {
   "cell_type": "code",
   "execution_count": 3,
   "metadata": {
    "ExecuteTime": {
     "end_time": "2021-09-17T10:57:16.446767Z",
     "start_time": "2021-09-17T10:57:16.418764Z"
    }
   },
   "outputs": [],
   "source": [
    "dataset = tf.data.Dataset.from_tensor_slices((xids, masks, labels))"
   ]
  },
  {
   "cell_type": "code",
   "execution_count": 4,
   "metadata": {
    "ExecuteTime": {
     "end_time": "2021-09-17T10:57:16.462762Z",
     "start_time": "2021-09-17T10:57:16.448779Z"
    }
   },
   "outputs": [
    {
     "data": {
      "text/plain": [
       "<TakeDataset shapes: ((512,), (512,), (5,)), types: (tf.int32, tf.int32, tf.float64)>"
      ]
     },
     "execution_count": 4,
     "metadata": {},
     "output_type": "execute_result"
    }
   ],
   "source": [
    "dataset.take(1)"
   ]
  },
  {
   "cell_type": "code",
   "execution_count": 5,
   "metadata": {
    "ExecuteTime": {
     "end_time": "2021-09-17T10:57:16.523802Z",
     "start_time": "2021-09-17T10:57:16.464765Z"
    }
   },
   "outputs": [
    {
     "data": {
      "text/plain": [
       "<TakeDataset shapes: ({input_ids: (512,), attention_mask: (512,)}, (5,)), types: ({input_ids: tf.int32, attention_mask: tf.int32}, tf.float64)>"
      ]
     },
     "execution_count": 5,
     "metadata": {},
     "output_type": "execute_result"
    }
   ],
   "source": [
    "def map_func(input_ids, masks, labels):\n",
    "    return {'input_ids':input_ids,\n",
    "            'attention_mask':masks},labels\n",
    "\n",
    "dataset = dataset.map(map_func)\n",
    "dataset.take(1)"
   ]
  },
  {
   "cell_type": "code",
   "execution_count": 6,
   "metadata": {
    "ExecuteTime": {
     "end_time": "2021-09-17T10:57:16.538771Z",
     "start_time": "2021-09-17T10:57:16.525765Z"
    }
   },
   "outputs": [],
   "source": [
    "batch_size = 32\n",
    "split = 0.8\n",
    "dataset = dataset.shuffle(5000).batch(batch_size, drop_remainder=True)"
   ]
  },
  {
   "cell_type": "code",
   "execution_count": 7,
   "metadata": {
    "ExecuteTime": {
     "end_time": "2021-09-17T10:57:16.554801Z",
     "start_time": "2021-09-17T10:57:16.541800Z"
    }
   },
   "outputs": [
    {
     "data": {
      "text/plain": [
       "<TakeDataset shapes: ({input_ids: (32, 512), attention_mask: (32, 512)}, (32, 5)), types: ({input_ids: tf.int32, attention_mask: tf.int32}, tf.float64)>"
      ]
     },
     "execution_count": 7,
     "metadata": {},
     "output_type": "execute_result"
    }
   ],
   "source": [
    "dataset.take(1)"
   ]
  },
  {
   "cell_type": "code",
   "execution_count": 8,
   "metadata": {
    "ExecuteTime": {
     "end_time": "2021-09-17T10:57:16.570767Z",
     "start_time": "2021-09-17T10:57:16.557763Z"
    }
   },
   "outputs": [
    {
     "data": {
      "text/plain": [
       "213"
      ]
     },
     "execution_count": 8,
     "metadata": {},
     "output_type": "execute_result"
    }
   ],
   "source": [
    "size = int((xids.shape[0]/batch_size)*split)\n",
    "size"
   ]
  },
  {
   "cell_type": "code",
   "execution_count": 9,
   "metadata": {
    "ExecuteTime": {
     "end_time": "2021-09-17T10:57:16.585768Z",
     "start_time": "2021-09-17T10:57:16.572764Z"
    }
   },
   "outputs": [],
   "source": [
    "train_ds = dataset.take(size)\n",
    "vali_ds = dataset.skip(size)"
   ]
  },
  {
   "cell_type": "code",
   "execution_count": 10,
   "metadata": {
    "ExecuteTime": {
     "end_time": "2021-09-17T10:57:16.869231Z",
     "start_time": "2021-09-17T10:57:16.587763Z"
    }
   },
   "outputs": [],
   "source": [
    "tf.data.experimental.save(train_ds, 'train')\n",
    "tf.data.experimental.save(vali_ds, 'vali')"
   ]
  },
  {
   "cell_type": "code",
   "execution_count": 11,
   "metadata": {
    "ExecuteTime": {
     "end_time": "2021-09-17T10:57:16.885047Z",
     "start_time": "2021-09-17T10:57:16.870045Z"
    }
   },
   "outputs": [
    {
     "data": {
      "text/plain": [
       "({'input_ids': TensorSpec(shape=(32, 512), dtype=tf.int32, name=None),\n",
       "  'attention_mask': TensorSpec(shape=(32, 512), dtype=tf.int32, name=None)},\n",
       " TensorSpec(shape=(32, 5), dtype=tf.float64, name=None))"
      ]
     },
     "execution_count": 11,
     "metadata": {},
     "output_type": "execute_result"
    }
   ],
   "source": [
    "train_ds.element_spec"
   ]
  },
  {
   "cell_type": "code",
   "execution_count": 12,
   "metadata": {
    "ExecuteTime": {
     "end_time": "2021-09-17T10:57:16.900047Z",
     "start_time": "2021-09-17T10:57:16.886048Z"
    }
   },
   "outputs": [
    {
     "data": {
      "text/plain": [
       "({'input_ids': TensorSpec(shape=(32, 512), dtype=tf.int32, name=None),\n",
       "  'attention_mask': TensorSpec(shape=(32, 512), dtype=tf.int32, name=None)},\n",
       " TensorSpec(shape=(32, 5), dtype=tf.float64, name=None))"
      ]
     },
     "execution_count": 12,
     "metadata": {},
     "output_type": "execute_result"
    }
   ],
   "source": [
    "vali_ds.element_spec"
   ]
  },
  {
   "cell_type": "code",
   "execution_count": 13,
   "metadata": {
    "ExecuteTime": {
     "end_time": "2021-09-17T10:57:16.931111Z",
     "start_time": "2021-09-17T10:57:16.901049Z"
    }
   },
   "outputs": [
    {
     "data": {
      "text/plain": [
       "({'input_ids': TensorSpec(shape=(32, 512), dtype=tf.int32, name=None),\n",
       "  'attention_mask': TensorSpec(shape=(32, 512), dtype=tf.int32, name=None)},\n",
       " TensorSpec(shape=(32, 5), dtype=tf.float64, name=None))"
      ]
     },
     "execution_count": 13,
     "metadata": {},
     "output_type": "execute_result"
    }
   ],
   "source": [
    "train_ds_offline = tf.data.experimental.load('train')\n",
    "train_ds_offline.element_spec"
   ]
  },
  {
   "cell_type": "code",
   "execution_count": 14,
   "metadata": {
    "ExecuteTime": {
     "end_time": "2021-09-17T10:57:16.962877Z",
     "start_time": "2021-09-17T10:57:16.932050Z"
    }
   },
   "outputs": [
    {
     "data": {
      "text/plain": [
       "({'input_ids': TensorSpec(shape=(32, 512), dtype=tf.int32, name=None),\n",
       "  'attention_mask': TensorSpec(shape=(32, 512), dtype=tf.int32, name=None)},\n",
       " TensorSpec(shape=(32, 5), dtype=tf.float64, name=None))"
      ]
     },
     "execution_count": 14,
     "metadata": {},
     "output_type": "execute_result"
    }
   ],
   "source": [
    "vali_ds_offline = tf.data.experimental.load('vali')\n",
    "vali_ds_offline.element_spec"
   ]
  },
  {
   "cell_type": "code",
   "execution_count": 15,
   "metadata": {
    "ExecuteTime": {
     "end_time": "2021-09-17T10:57:16.978009Z",
     "start_time": "2021-09-17T10:57:16.963876Z"
    }
   },
   "outputs": [
    {
     "data": {
      "text/plain": [
       "<TakeDataset shapes: ({input_ids: (32, 512), attention_mask: (32, 512)}, (32, 5)), types: ({input_ids: tf.int32, attention_mask: tf.int32}, tf.float64)>"
      ]
     },
     "execution_count": 15,
     "metadata": {},
     "output_type": "execute_result"
    }
   ],
   "source": [
    "train_ds_offline.take(1)"
   ]
  },
  {
   "cell_type": "code",
   "execution_count": 16,
   "metadata": {
    "ExecuteTime": {
     "end_time": "2021-09-17T10:57:16.993002Z",
     "start_time": "2021-09-17T10:57:16.981999Z"
    }
   },
   "outputs": [
    {
     "data": {
      "text/plain": [
       "<TakeDataset shapes: ({input_ids: (32, 512), attention_mask: (32, 512)}, (32, 5)), types: ({input_ids: tf.int32, attention_mask: tf.int32}, tf.float64)>"
      ]
     },
     "execution_count": 16,
     "metadata": {},
     "output_type": "execute_result"
    }
   ],
   "source": [
    "vali_ds_offline.take(1)"
   ]
  }
 ],
 "metadata": {
  "kernelspec": {
   "display_name": "transformers_dl",
   "language": "python",
   "name": "transformers_dl"
  },
  "language_info": {
   "codemirror_mode": {
    "name": "ipython",
    "version": 3
   },
   "file_extension": ".py",
   "mimetype": "text/x-python",
   "name": "python",
   "nbconvert_exporter": "python",
   "pygments_lexer": "ipython3",
   "version": "3.7.10"
  }
 },
 "nbformat": 4,
 "nbformat_minor": 4
}
