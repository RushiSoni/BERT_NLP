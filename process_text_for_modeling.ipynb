{
 "cells": [
  {
   "cell_type": "code",
   "execution_count": null,
   "metadata": {
    "ExecuteTime": {
     "end_time": "2021-08-09T15:54:45.054121Z",
     "start_time": "2021-08-09T15:54:26.766567Z"
    }
   },
   "outputs": [],
   "source": [
    "import ast\n",
    "import json\n",
    "from bs4 import BeautifulSoup\n",
    "from transformers import pipeline\n",
    "summarizer = pipeline(\"summarization\")\n",
    "import re\n",
    "import pandas as pd\n",
    "import numpy as np\n",
    "import os\n",
    "os.chdir(r'..\\data')\n",
    "from keybert import KeyBERT\n",
    "kw_model = KeyBERT()\n",
    "from tqdm import tqdm\n",
    "from joblib import Parallel, delayed\n",
    "import multiprocessing\n",
    "import warnings\n",
    "warnings.filterwarnings('ignore')"
   ]
  },
  {
   "cell_type": "code",
   "execution_count": null,
   "metadata": {
    "ExecuteTime": {
     "end_time": "2021-08-09T15:52:03.189563Z",
     "start_time": "2021-08-09T15:52:03.180563Z"
    }
   },
   "outputs": [],
   "source": [
    "# Opening JSON file\n",
    "f = open('articles.json', \"r\", encoding='utf-8')\n",
    "data = json.load(f)"
   ]
  },
  {
   "cell_type": "code",
   "execution_count": null,
   "metadata": {
    "ExecuteTime": {
     "end_time": "2021-08-09T15:52:03.228565Z",
     "start_time": "2021-08-09T15:52:03.194563Z"
    }
   },
   "outputs": [],
   "source": [
    "data['doc1'].keys()"
   ]
  },
  {
   "cell_type": "code",
   "execution_count": null,
   "metadata": {
    "ExecuteTime": {
     "end_time": "2021-08-09T15:52:03.244566Z",
     "start_time": "2021-08-09T15:52:03.234562Z"
    }
   },
   "outputs": [],
   "source": [
    "docid_list = [docid for docid in data.keys()]\n",
    "docid_list"
   ]
  },
  {
   "cell_type": "code",
   "execution_count": null,
   "metadata": {
    "ExecuteTime": {
     "end_time": "2021-08-09T15:52:03.259565Z",
     "start_time": "2021-08-09T15:52:03.248565Z"
    }
   },
   "outputs": [],
   "source": [
    "doc_attributes = data[docid_list[0]].keys()\n",
    "doc_attributes = list(doc_attributes)\n",
    "doc_attributes"
   ]
  },
  {
   "cell_type": "code",
   "execution_count": null,
   "metadata": {
    "ExecuteTime": {
     "end_time": "2021-08-09T15:52:03.275565Z",
     "start_time": "2021-08-09T15:52:03.262561Z"
    }
   },
   "outputs": [],
   "source": [
    "def get_document_text(docid):\n",
    "    title = data[docid]['title']\n",
    "    excerpt = data[docid]['excerpt']\n",
    "    body = data[docid]['body']\n",
    "    combined_text = title +'\\n'+excerpt+'\\n'+body\n",
    "    soup_combined_text = BeautifulSoup(combined_text)\n",
    "    clean_combined_text = soup_combined_text.get_text()\n",
    "    return clean_combined_text\n",
    "\n",
    "def get_top_n_phrases(doctext, n, colls):\n",
    "    keywords = kw_model.extract_keywords(doctext, keyphrase_ngram_range=(2, 3), stop_words='english', top_n=n)\n",
    "    keywords_df = pd.DataFrame(keywords, columns=colls)\n",
    "    summarize_text = summarizer(doctext, max_length=130, min_length=30, do_sample=False)\n",
    "    summarize_text = summarize_text[0]['summary_text']\n",
    "    return keywords_df, summarize_text"
   ]
  },
  {
   "cell_type": "code",
   "execution_count": null,
   "metadata": {
    "ExecuteTime": {
     "end_time": "2021-08-09T15:52:20.844027Z",
     "start_time": "2021-08-09T15:52:03.279562Z"
    }
   },
   "outputs": [],
   "source": [
    "colls = ['phrase', 'importance']\n",
    "clean_combined_text = get_document_text('doc1')\n",
    "result_df, summaries_text = get_top_n_phrases(clean_combined_text, 5, colls)\n",
    "display(result_df)\n",
    "summaries_text"
   ]
  },
  {
   "cell_type": "code",
   "execution_count": null,
   "metadata": {
    "ExecuteTime": {
     "end_time": "2021-08-09T15:52:40.533795Z",
     "start_time": "2021-08-09T15:52:20.847992Z"
    }
   },
   "outputs": [],
   "source": [
    "clean_combined_text = get_document_text('doc2')\n",
    "result_df, summaries_text = get_top_n_phrases(clean_combined_text, 5, colls)\n",
    "display(result_df)\n",
    "summaries_text"
   ]
  },
  {
   "cell_type": "code",
   "execution_count": null,
   "metadata": {
    "ExecuteTime": {
     "end_time": "2021-08-09T15:52:51.604636Z",
     "start_time": "2021-08-09T15:52:40.539706Z"
    }
   },
   "outputs": [],
   "source": [
    "clean_combined_text = get_document_text('doc3')\n",
    "result_df, summaries_text = get_top_n_phrases(clean_combined_text, 5, colls)\n",
    "display(result_df)\n",
    "summaries_text"
   ]
  },
  {
   "cell_type": "code",
   "execution_count": null,
   "metadata": {
    "ExecuteTime": {
     "end_time": "2021-08-09T15:53:02.590950Z",
     "start_time": "2021-08-09T15:52:51.608633Z"
    }
   },
   "outputs": [],
   "source": [
    "clean_combined_text = get_document_text('doc4')\n",
    "result_df, summaries_text = get_top_n_phrases(clean_combined_text, 5, colls)\n",
    "display(result_df)\n",
    "summaries_text"
   ]
  },
  {
   "cell_type": "code",
   "execution_count": null,
   "metadata": {
    "ExecuteTime": {
     "end_time": "2021-08-09T15:53:16.212483Z",
     "start_time": "2021-08-09T15:53:02.594951Z"
    }
   },
   "outputs": [],
   "source": [
    "clean_combined_text = get_document_text('doc5')\n",
    "result_df, summaries_text = get_top_n_phrases(clean_combined_text, 5, colls)\n",
    "display(result_df)\n",
    "summaries_text"
   ]
  },
  {
   "cell_type": "code",
   "execution_count": null,
   "metadata": {
    "ExecuteTime": {
     "end_time": "2021-08-09T15:53:16.317882Z",
     "start_time": "2021-08-09T15:53:16.215484Z"
    }
   },
   "outputs": [],
   "source": [
    "# Opening JSON file\n",
    "f = open('newsSample.json', \"r\", encoding='utf-8')\n",
    "data = json.load(f, strict=False)"
   ]
  },
  {
   "cell_type": "code",
   "execution_count": null,
   "metadata": {
    "ExecuteTime": {
     "end_time": "2021-08-09T15:53:16.327249Z",
     "start_time": "2021-08-09T15:53:16.321221Z"
    }
   },
   "outputs": [],
   "source": [
    "len(data)"
   ]
  },
  {
   "cell_type": "code",
   "execution_count": null,
   "metadata": {
    "ExecuteTime": {
     "end_time": "2021-08-09T15:53:16.343108Z",
     "start_time": "2021-08-09T15:53:16.331306Z"
    }
   },
   "outputs": [],
   "source": [
    "data[45]"
   ]
  },
  {
   "cell_type": "code",
   "execution_count": null,
   "metadata": {
    "ExecuteTime": {
     "end_time": "2021-08-09T15:53:16.362724Z",
     "start_time": "2021-08-09T15:53:16.347426Z"
    }
   },
   "outputs": [],
   "source": [
    "doc_df = pd.DataFrame(data, columns=['json_doc'])\n",
    "doc_df.head(2)"
   ]
  },
  {
   "cell_type": "code",
   "execution_count": null,
   "metadata": {
    "ExecuteTime": {
     "end_time": "2021-08-09T15:53:16.381147Z",
     "start_time": "2021-08-09T15:53:16.368167Z"
    }
   },
   "outputs": [],
   "source": [
    "doc_index=['doc_'+str(idx) for idx, json_doc in enumerate(data)]\n",
    "len(doc_index), len(data)"
   ]
  },
  {
   "cell_type": "code",
   "execution_count": null,
   "metadata": {
    "ExecuteTime": {
     "end_time": "2021-08-09T15:53:16.414660Z",
     "start_time": "2021-08-09T15:53:16.384389Z"
    }
   },
   "outputs": [],
   "source": [
    "doc_df = pd.DataFrame({'doc_index':doc_index,'doc':data})\n",
    "def get_document_text(jdoc):\n",
    "    title = jdoc['title']\n",
    "    excerpt = jdoc['excerpt']\n",
    "    body = jdoc['body']\n",
    "    combined_text = title +'\\n'+excerpt+'\\n'+body\n",
    "    soup_combined_text = BeautifulSoup(combined_text)\n",
    "    clean_combined_text = soup_combined_text.get_text()\n",
    "    return clean_combined_text\n",
    "\n",
    "def get_top_n_phrases(jdoc, n, colls):\n",
    "    doctext = get_document_text(jdoc)\n",
    "    keywords = kw_model.extract_keywords(doctext, keyphrase_ngram_range=(2, 3), stop_words='english', top_n=n)\n",
    "    keywords_df = pd.DataFrame(keywords, columns=colls)\n",
    "    summarize_text = summarizer(doctext, max_length=130, min_length=30, do_sample=False)\n",
    "    summarize_text = summarize_text[0]['summary_text']\n",
    "    return keywords_df, summarize_text\n",
    "\n",
    "doc_df['extraction'] = doc_df['doc'].process_apply(get_top_n_phrases, n=5, colls=colls)"
   ]
  },
  {
   "cell_type": "code",
   "execution_count": null,
   "metadata": {
    "ExecuteTime": {
     "start_time": "2021-08-09T15:55:32.610Z"
    }
   },
   "outputs": [],
   "source": []
  },
  {
   "cell_type": "code",
   "execution_count": null,
   "metadata": {},
   "outputs": [],
   "source": [
    "process_doc_ls = Parallel(n_jobs=4, backend=\"multiprocessing\")(delayed(get_top_n_phrases)(jsondoc, 5, colls) for jsondoc in tqdm(doc_df['doc'].tolist(), total=doc_df.shape[0]))"
   ]
  }
 ],
 "metadata": {
  "kernelspec": {
   "display_name": "transformers_kernel",
   "language": "python",
   "name": "transformers_kernel"
  },
  "language_info": {
   "codemirror_mode": {
    "name": "ipython",
    "version": 3
   },
   "file_extension": ".py",
   "mimetype": "text/x-python",
   "name": "python",
   "nbconvert_exporter": "python",
   "pygments_lexer": "ipython3",
   "version": "3.7.10"
  }
 },
 "nbformat": 4,
 "nbformat_minor": 4
}
