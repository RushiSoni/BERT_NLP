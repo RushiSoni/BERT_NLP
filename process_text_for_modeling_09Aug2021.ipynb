{
 "cells": [
  {
   "cell_type": "code",
   "execution_count": 1,
   "metadata": {
    "ExecuteTime": {
     "end_time": "2021-08-10T09:09:19.160014Z",
     "start_time": "2021-08-10T09:08:49.983089Z"
    }
   },
   "outputs": [],
   "source": [
    "import ast\n",
    "import json\n",
    "from bs4 import BeautifulSoup\n",
    "from transformers import pipeline\n",
    "summarizer = pipeline(\"summarization\")\n",
    "import re\n",
    "import pandas as pd\n",
    "import numpy as np\n",
    "import os\n",
    "os.chdir(r'..\\data')\n",
    "from keybert import KeyBERT\n",
    "kw_model = KeyBERT()\n",
    "from tqdm import tqdm\n",
    "tqdm.pandas()\n",
    "from joblib import Parallel, delayed\n",
    "import multiprocessing\n",
    "import warnings\n",
    "warnings.filterwarnings('ignore')"
   ]
  },
  {
   "cell_type": "code",
   "execution_count": 2,
   "metadata": {
    "ExecuteTime": {
     "end_time": "2021-08-10T09:09:19.251015Z",
     "start_time": "2021-08-10T09:09:19.162017Z"
    }
   },
   "outputs": [],
   "source": [
    "# Opening JSON file\n",
    "f = open('newsSample.json', \"r\", encoding='utf-8')\n",
    "data = json.load(f, strict=False)"
   ]
  },
  {
   "cell_type": "code",
   "execution_count": 3,
   "metadata": {
    "ExecuteTime": {
     "end_time": "2021-08-10T09:09:19.268020Z",
     "start_time": "2021-08-10T09:09:19.254019Z"
    }
   },
   "outputs": [
    {
     "data": {
      "text/plain": [
       "1000"
      ]
     },
     "execution_count": 3,
     "metadata": {},
     "output_type": "execute_result"
    }
   ],
   "source": [
    "len(data)"
   ]
  },
  {
   "cell_type": "code",
   "execution_count": 4,
   "metadata": {
    "ExecuteTime": {
     "end_time": "2021-08-10T09:09:19.279017Z",
     "start_time": "2021-08-10T09:09:19.271016Z"
    }
   },
   "outputs": [
    {
     "data": {
      "text/plain": [
       "{'newsId': 759904,\n",
       " 'vendorId': 25998310,\n",
       " 'title': 'Digital Euro Coming? 13 Things We Know About the ECB?s Potential Plans',\n",
       " 'excerpt': 'The <strong>European Central Bank</strong> (ECB) is working on a digital euro but it will still',\n",
       " 'body': '<p>The European Central Bank (ECB) is working on a digital euro but it will still be some time before the virtual currency will see use.</p><p>Source: peterschreiber.media/Shutterstock.com </p><p>Let’s take a look at everything investors need to know about the digital euro and ECB’s possible plans.</p><p>The ECB will likely be setting up a wallet to hold the digital euro for citizens. That could include holding limits to keep people from abandoning commercial banks. This would likely be similar to how a digital bank account works. However, a major difference is that the ECB has no worries about running out of funds. One thing to note is that there’s no guarantee that the ECB will use blockchain for the digital currency. That seems like a strange choice considering the massive adoption of the technology by cryptocurrencies such as Bitcoin (CCC:BTC-USD) and Ethereum (CCC:ETH-USD). It’s also unlikely that users will be able to remain anonymous when making purchases with the currency. While the switch is likely happening, it won’t be for some years. The ECB has entered an investigational phase concerning the currency. This will last for 24 months. The ECB also still needs to design the digital euro and have it approved by regulators. That means people won’t likely be using the digital currency for at least five years. When they do, the ECB claims that the digital euro will be environmentally friendly with energy use for it being negligible. </p><p>Investors looking to catch up on the latest crypto news will want to keep reading. InvestorPlace has the latest news on crypto with our daily coverage of the space. That includes what traders need to know about Bitcoin trends to watch this year, the Lukka crypto management team, and Ethereum Classic (CCC:ETC-USD) potentially making a comeback. You can learn all about these subjects by checking out the following links!</p><p>More Crypto News for Wednesday Ethereum Classic May Be It Again </p><p>On the date of publication, William White did not have (either directly or indirectly) any positions in the securities mentioned in this article. The opinions expressed in this article are those of the writer, subject to the InvestorPlace.com Publishing Guidelines. The post appeared first on InvestorPlace.</p><p>The views and opinions expressed herein are the views and opinions of the author and do not necessarily reflect those of Nasdaq, Inc.</p>'}"
      ]
     },
     "execution_count": 4,
     "metadata": {},
     "output_type": "execute_result"
    }
   ],
   "source": [
    "data[45]"
   ]
  },
  {
   "cell_type": "code",
   "execution_count": 5,
   "metadata": {
    "ExecuteTime": {
     "end_time": "2021-08-10T09:09:19.307020Z",
     "start_time": "2021-08-10T09:09:19.282018Z"
    }
   },
   "outputs": [
    {
     "data": {
      "text/html": [
       "<div>\n",
       "<style scoped>\n",
       "    .dataframe tbody tr th:only-of-type {\n",
       "        vertical-align: middle;\n",
       "    }\n",
       "\n",
       "    .dataframe tbody tr th {\n",
       "        vertical-align: top;\n",
       "    }\n",
       "\n",
       "    .dataframe thead th {\n",
       "        text-align: right;\n",
       "    }\n",
       "</style>\n",
       "<table border=\"1\" class=\"dataframe\">\n",
       "  <thead>\n",
       "    <tr style=\"text-align: right;\">\n",
       "      <th></th>\n",
       "      <th>json_doc</th>\n",
       "    </tr>\n",
       "  </thead>\n",
       "  <tbody>\n",
       "    <tr>\n",
       "      <th>0</th>\n",
       "      <td>NaN</td>\n",
       "    </tr>\n",
       "    <tr>\n",
       "      <th>1</th>\n",
       "      <td>NaN</td>\n",
       "    </tr>\n",
       "  </tbody>\n",
       "</table>\n",
       "</div>"
      ],
      "text/plain": [
       "   json_doc\n",
       "0       NaN\n",
       "1       NaN"
      ]
     },
     "execution_count": 5,
     "metadata": {},
     "output_type": "execute_result"
    }
   ],
   "source": [
    "doc_df = pd.DataFrame(data, columns=['json_doc'])\n",
    "doc_df.head(2)"
   ]
  },
  {
   "cell_type": "code",
   "execution_count": 6,
   "metadata": {
    "ExecuteTime": {
     "end_time": "2021-08-10T09:09:19.319020Z",
     "start_time": "2021-08-10T09:09:19.310021Z"
    }
   },
   "outputs": [
    {
     "data": {
      "text/plain": [
       "(1000, 1000)"
      ]
     },
     "execution_count": 6,
     "metadata": {},
     "output_type": "execute_result"
    }
   ],
   "source": [
    "doc_index=['doc_'+str(idx) for idx, json_doc in enumerate(data)]\n",
    "len(doc_index), len(data)"
   ]
  },
  {
   "cell_type": "code",
   "execution_count": 7,
   "metadata": {
    "ExecuteTime": {
     "end_time": "2021-08-10T09:10:30.201211Z",
     "start_time": "2021-08-10T09:09:19.323020Z"
    }
   },
   "outputs": [
    {
     "data": {
      "text/html": [
       "<div>\n",
       "<style scoped>\n",
       "    .dataframe tbody tr th:only-of-type {\n",
       "        vertical-align: middle;\n",
       "    }\n",
       "\n",
       "    .dataframe tbody tr th {\n",
       "        vertical-align: top;\n",
       "    }\n",
       "\n",
       "    .dataframe thead th {\n",
       "        text-align: right;\n",
       "    }\n",
       "</style>\n",
       "<table border=\"1\" class=\"dataframe\">\n",
       "  <thead>\n",
       "    <tr style=\"text-align: right;\">\n",
       "      <th></th>\n",
       "      <th>index</th>\n",
       "      <th>doc_index</th>\n",
       "      <th>doc</th>\n",
       "      <th>doc_phrases</th>\n",
       "    </tr>\n",
       "  </thead>\n",
       "  <tbody>\n",
       "    <tr>\n",
       "      <th>0</th>\n",
       "      <td>316</td>\n",
       "      <td>doc_316</td>\n",
       "      <td>{'newsId': 759811, 'vendorId': 25997375, 'titl...</td>\n",
       "      <td>phrase  importance\n",
       "0     wipr...</td>\n",
       "    </tr>\n",
       "    <tr>\n",
       "      <th>1</th>\n",
       "      <td>459</td>\n",
       "      <td>doc_459</td>\n",
       "      <td>{'newsId': 761637, 'vendorId': 26000979, 'titl...</td>\n",
       "      <td>phrase  importance\n",
       "0   ...</td>\n",
       "    </tr>\n",
       "    <tr>\n",
       "      <th>2</th>\n",
       "      <td>854</td>\n",
       "      <td>doc_854</td>\n",
       "      <td>{'newsId': 757053, 'vendorId': 25989833, 'titl...</td>\n",
       "      <td>phrase  importance\n",
       "0   ...</td>\n",
       "    </tr>\n",
       "    <tr>\n",
       "      <th>3</th>\n",
       "      <td>11</td>\n",
       "      <td>doc_11</td>\n",
       "      <td>{'newsId': 761689, 'vendorId': 26001229, 'titl...</td>\n",
       "      <td>phrase  importance\n",
       "0...</td>\n",
       "    </tr>\n",
       "    <tr>\n",
       "      <th>4</th>\n",
       "      <td>978</td>\n",
       "      <td>doc_978</td>\n",
       "      <td>{'newsId': 756889, 'vendorId': 25989405, 'titl...</td>\n",
       "      <td>phrase  importance\n",
       "0    l...</td>\n",
       "    </tr>\n",
       "  </tbody>\n",
       "</table>\n",
       "</div>"
      ],
      "text/plain": [
       "   index doc_index                                                doc  \\\n",
       "0    316   doc_316  {'newsId': 759811, 'vendorId': 25997375, 'titl...   \n",
       "1    459   doc_459  {'newsId': 761637, 'vendorId': 26000979, 'titl...   \n",
       "2    854   doc_854  {'newsId': 757053, 'vendorId': 25989833, 'titl...   \n",
       "3     11    doc_11  {'newsId': 761689, 'vendorId': 26001229, 'titl...   \n",
       "4    978   doc_978  {'newsId': 756889, 'vendorId': 25989405, 'titl...   \n",
       "\n",
       "                                         doc_phrases  \n",
       "0                   phrase  importance\n",
       "0     wipr...  \n",
       "1                         phrase  importance\n",
       "0   ...  \n",
       "2                         phrase  importance\n",
       "0   ...  \n",
       "3                            phrase  importance\n",
       "0...  \n",
       "4                       phrase  importance\n",
       "0    l...  "
      ]
     },
     "execution_count": 7,
     "metadata": {},
     "output_type": "execute_result"
    }
   ],
   "source": [
    "doc_df = pd.DataFrame({'doc_index':doc_index,'doc':data})\n",
    "doc_df = doc_df.sample(50, random_state=50)\n",
    "doc_df = doc_df.reset_index()\n",
    "def get_document_text(jdoc):\n",
    "    title = jdoc['title']\n",
    "    excerpt = jdoc['excerpt']\n",
    "    body = jdoc['body']\n",
    "    combined_text = title +'\\n'+excerpt+'\\n'+body\n",
    "    soup_combined_text = BeautifulSoup(combined_text)\n",
    "    clean_combined_text = soup_combined_text.get_text()\n",
    "    return clean_combined_text\n",
    "\n",
    "def get_top_n_phrases(jdoc, n, colls):\n",
    "    doctext = get_document_text(jdoc)\n",
    "    keywords = kw_model.extract_keywords(doctext, keyphrase_ngram_range=(2, 3), stop_words='english', top_n=n)\n",
    "    keywords_df = pd.DataFrame(keywords, columns=colls)\n",
    "    return keywords_df\n",
    "\n",
    "colls = ['phrase', 'importance']\n",
    "#doc_df['extraction'] = doc_df['doc'].progress_apply(get_top_n_phrases, n=5, colls=colls)\n",
    "#doc_df['extraction'] = doc_df['doc'].apply(get_top_n_phrases, n=5, colls=colls)\n",
    "process_doc = [get_top_n_phrases(doc_, n=5, colls=colls)  for doc_ in doc_df['doc'].tolist()]\n",
    "doc_df['doc_phrases'] = pd.Series(process_doc)\n",
    "doc_df.head()\n"
   ]
  },
  {
   "cell_type": "code",
   "execution_count": 8,
   "metadata": {
    "ExecuteTime": {
     "end_time": "2021-08-10T09:10:30.221190Z",
     "start_time": "2021-08-10T09:10:30.205189Z"
    }
   },
   "outputs": [],
   "source": [
    "doc_dict = dict(zip(doc_df['doc_index'],doc_df['doc']))\n",
    "with open('doc_data_10aug2021.json', 'w') as fp:\n",
    "    json.dump(doc_dict, fp)"
   ]
  },
  {
   "cell_type": "code",
   "execution_count": null,
   "metadata": {},
   "outputs": [],
   "source": []
  }
 ],
 "metadata": {
  "kernelspec": {
   "display_name": "transformers_kernel",
   "language": "python",
   "name": "transformers_kernel"
  },
  "language_info": {
   "codemirror_mode": {
    "name": "ipython",
    "version": 3
   },
   "file_extension": ".py",
   "mimetype": "text/x-python",
   "name": "python",
   "nbconvert_exporter": "python",
   "pygments_lexer": "ipython3",
   "version": "3.7.10"
  }
 },
 "nbformat": 4,
 "nbformat_minor": 4
}
