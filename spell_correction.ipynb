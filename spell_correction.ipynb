{
 "cells": [
  {
   "cell_type": "code",
   "execution_count": 1,
   "metadata": {
    "ExecuteTime": {
     "end_time": "2021-09-24T08:48:14.221521Z",
     "start_time": "2021-09-24T08:48:08.875628Z"
    }
   },
   "outputs": [],
   "source": [
    "from textblob import TextBlob"
   ]
  },
  {
   "cell_type": "code",
   "execution_count": 2,
   "metadata": {
    "ExecuteTime": {
     "end_time": "2021-09-24T08:48:14.330515Z",
     "start_time": "2021-09-24T08:48:14.224518Z"
    }
   },
   "outputs": [
    {
     "data": {
      "text/plain": [
       "TextBlob(\"I look toward to receiving your reply.\")"
      ]
     },
     "execution_count": 2,
     "metadata": {},
     "output_type": "execute_result"
    }
   ],
   "source": [
    "tb = TextBlob(\"I louk foward to receving your reply.\")\n",
    "tb.correct()"
   ]
  },
  {
   "cell_type": "code",
   "execution_count": 3,
   "metadata": {
    "ExecuteTime": {
     "end_time": "2021-09-24T08:48:14.504558Z",
     "start_time": "2021-09-24T08:48:14.333518Z"
    }
   },
   "outputs": [
    {
     "data": {
      "text/plain": [
       "TextBlob(\"he is great person.\")"
      ]
     },
     "execution_count": 3,
     "metadata": {},
     "output_type": "execute_result"
    }
   ],
   "source": [
    "tb = TextBlob(\"he is grrrt person.\")\n",
    "tb.correct()"
   ]
  },
  {
   "cell_type": "code",
   "execution_count": 4,
   "metadata": {
    "ExecuteTime": {
     "end_time": "2021-09-24T08:48:59.747511Z",
     "start_time": "2021-09-24T08:48:14.506525Z"
    }
   },
   "outputs": [
    {
     "name": "stdout",
     "output_type": "stream",
     "text": [
      "data folder is set to `c:\\users\\rushi.soni\\documents\\topic_modeling\\neuspell\\neuspell\\../data` script\n"
     ]
    }
   ],
   "source": [
    "import neuspell\n",
    "from neuspell import BertChecker"
   ]
  },
  {
   "cell_type": "code",
   "execution_count": 5,
   "metadata": {
    "ExecuteTime": {
     "end_time": "2021-09-24T08:49:06.721451Z",
     "start_time": "2021-09-24T08:48:59.750513Z"
    }
   },
   "outputs": [
    {
     "name": "stdout",
     "output_type": "stream",
     "text": [
      "loading vocab from path:c:\\users\\rushi.soni\\documents\\topic_modeling\\neuspell\\neuspell\\../data/checkpoints/subwordbert-probwordnoise\\vocab.pkl\n",
      "initializing model\n",
      "Number of parameters in the model: 185211810\n",
      "Loading model params from checkpoint dir: c:\\users\\rushi.soni\\documents\\topic_modeling\\neuspell\\neuspell\\../data/checkpoints/subwordbert-probwordnoise\n"
     ]
    },
    {
     "data": {
      "text/plain": [
       "['I look forward to receiving your reply']"
      ]
     },
     "execution_count": 5,
     "metadata": {},
     "output_type": "execute_result"
    }
   ],
   "source": [
    "checker = BertChecker()\n",
    "checker.from_pretrained()\n",
    "checker.correct_strings([\"I luk foward to receving your reply\", ])"
   ]
  },
  {
   "cell_type": "code",
   "execution_count": 6,
   "metadata": {
    "ExecuteTime": {
     "end_time": "2021-09-24T08:49:06.844451Z",
     "start_time": "2021-09-24T08:49:06.724457Z"
    }
   },
   "outputs": [
    {
     "data": {
      "text/plain": [
       "'I look forward to receiving your reply'"
      ]
     },
     "execution_count": 6,
     "metadata": {},
     "output_type": "execute_result"
    }
   ],
   "source": [
    "checker.correct(\"I luk foward to receving your reply\")"
   ]
  },
  {
   "cell_type": "code",
   "execution_count": 7,
   "metadata": {
    "ExecuteTime": {
     "end_time": "2021-09-24T08:49:06.952453Z",
     "start_time": "2021-09-24T08:49:06.847454Z"
    }
   },
   "outputs": [
    {
     "data": {
      "text/plain": [
       "'task is authorized by client'"
      ]
     },
     "execution_count": 7,
     "metadata": {},
     "output_type": "execute_result"
    }
   ],
   "source": [
    "checker.correct(\"task is authorize by client\")"
   ]
  },
  {
   "cell_type": "code",
   "execution_count": 8,
   "metadata": {
    "ExecuteTime": {
     "end_time": "2021-09-24T08:49:07.080448Z",
     "start_time": "2021-09-24T08:49:06.957451Z"
    }
   },
   "outputs": [
    {
     "data": {
      "text/plain": [
       "'task is authorised by client'"
      ]
     },
     "execution_count": 8,
     "metadata": {},
     "output_type": "execute_result"
    }
   ],
   "source": [
    "checker.correct(\"task is authorised by client\")"
   ]
  },
  {
   "cell_type": "code",
   "execution_count": 9,
   "metadata": {
    "ExecuteTime": {
     "end_time": "2021-09-24T08:49:07.206449Z",
     "start_time": "2021-09-24T08:49:07.084453Z"
    }
   },
   "outputs": [
    {
     "data": {
      "text/plain": [
       "'task is authorized by client'"
      ]
     },
     "execution_count": 9,
     "metadata": {},
     "output_type": "execute_result"
    }
   ],
   "source": [
    "checker.correct(\"task is authorsies by client\")"
   ]
  },
  {
   "cell_type": "code",
   "execution_count": 10,
   "metadata": {
    "ExecuteTime": {
     "end_time": "2021-09-24T08:49:07.331450Z",
     "start_time": "2021-09-24T08:49:07.209452Z"
    }
   },
   "outputs": [
    {
     "data": {
      "text/plain": [
       "'I am doing job on that science profile'"
      ]
     },
     "execution_count": 10,
     "metadata": {},
     "output_type": "execute_result"
    }
   ],
   "source": [
    "checker.correct(\"I m dong job on dat science profile\")"
   ]
  },
  {
   "cell_type": "code",
   "execution_count": 11,
   "metadata": {
    "ExecuteTime": {
     "end_time": "2021-09-24T08:49:51.539559Z",
     "start_time": "2021-09-24T08:49:07.334454Z"
    }
   },
   "outputs": [
    {
     "name": "stdout",
     "output_type": "stream",
     "text": [
      "loading vocab from path:c:\\users\\rushi.soni\\documents\\topic_modeling\\neuspell\\neuspell\\../data/checkpoints/elmoscrnn-probwordnoise\\vocab.pkl\n",
      "initializing model\n",
      "Number of parameters in the model: 209906438\n",
      "Loading model params from checkpoint dir: c:\\users\\rushi.soni\\documents\\topic_modeling\\neuspell\\neuspell\\../data/checkpoints/elmoscrnn-probwordnoise\n",
      "new model loaded: <class 'neuspell.corrector_elmosclstm.ElmosclstmChecker'>\n",
      "loading vocab from path:c:\\users\\rushi.soni\\documents\\topic_modeling\\neuspell\\neuspell\\../data/checkpoints/elmoscrnn-probwordnoise\\vocab.pkl\n",
      "initializing model\n",
      "Number of parameters in the model: 209906438\n",
      "Loading model params from checkpoint dir: c:\\users\\rushi.soni\\documents\\topic_modeling\\neuspell\\neuspell\\../data/checkpoints/elmoscrnn-probwordnoise\n"
     ]
    }
   ],
   "source": [
    "from neuspell import SclstmChecker\n",
    "\n",
    "checker = SclstmChecker()\n",
    "checker = checker.add_(\"elmo\", at=\"input\")  # \"elmo\" or \"bert\", \"input\" or \"output\"\n",
    "checker.from_pretrained()"
   ]
  },
  {
   "cell_type": "code",
   "execution_count": 12,
   "metadata": {
    "ExecuteTime": {
     "end_time": "2021-09-24T08:49:54.578076Z",
     "start_time": "2021-09-24T08:49:51.542562Z"
    }
   },
   "outputs": [
    {
     "name": "stdout",
     "output_type": "stream",
     "text": [
      "creating spacy models ...\n",
      "spacy models initialized\n"
     ]
    },
    {
     "name": "stderr",
     "output_type": "stream",
     "text": [
      "C:\\Users\\Rushi.Soni\\AppData\\Local\\Continuum\\anaconda3\\envs\\transformers_dl\\lib\\site-packages\\torch\\nn\\modules\\container.py:435: UserWarning: Setting attributes on ParameterList is not supported.\n",
      "  warnings.warn(\"Setting attributes on ParameterList is not supported.\")\n"
     ]
    },
    {
     "data": {
      "text/plain": [
       "'I am doing job on that science profile'"
      ]
     },
     "execution_count": 12,
     "metadata": {},
     "output_type": "execute_result"
    }
   ],
   "source": [
    "checker.correct(\"I m dong job on dat science profile\")"
   ]
  },
  {
   "cell_type": "code",
   "execution_count": 13,
   "metadata": {
    "ExecuteTime": {
     "end_time": "2021-09-24T08:49:54.861074Z",
     "start_time": "2021-09-24T08:49:54.581079Z"
    }
   },
   "outputs": [
    {
     "data": {
      "text/plain": [
       "'I look forward to receiving your reply'"
      ]
     },
     "execution_count": 13,
     "metadata": {},
     "output_type": "execute_result"
    }
   ],
   "source": [
    "checker.correct(\"I luk foward to receving your reply\")"
   ]
  },
  {
   "cell_type": "code",
   "execution_count": 14,
   "metadata": {
    "ExecuteTime": {
     "end_time": "2021-09-24T08:49:55.093073Z",
     "start_time": "2021-09-24T08:49:54.864074Z"
    }
   },
   "outputs": [
    {
     "data": {
      "text/plain": [
       "'I am doing my job'"
      ]
     },
     "execution_count": 14,
     "metadata": {},
     "output_type": "execute_result"
    }
   ],
   "source": [
    "checker.correct(\"I m doing my jab\")"
   ]
  },
  {
   "cell_type": "code",
   "execution_count": 15,
   "metadata": {
    "ExecuteTime": {
     "end_time": "2021-09-24T08:49:55.341075Z",
     "start_time": "2021-09-24T08:49:55.096079Z"
    }
   },
   "outputs": [
    {
     "data": {
      "text/plain": [
       "'my account in HDFC bank'"
      ]
     },
     "execution_count": 15,
     "metadata": {},
     "output_type": "execute_result"
    }
   ],
   "source": [
    "checker.correct(\"my account in HDFC bank\")"
   ]
  },
  {
   "cell_type": "code",
   "execution_count": 16,
   "metadata": {
    "ExecuteTime": {
     "end_time": "2021-09-24T08:49:55.591076Z",
     "start_time": "2021-09-24T08:49:55.344078Z"
    }
   },
   "outputs": [
    {
     "data": {
      "text/plain": [
       "'my account in HOFC bank'"
      ]
     },
     "execution_count": 16,
     "metadata": {},
     "output_type": "execute_result"
    }
   ],
   "source": [
    "checker.correct(\"my account in HOFC bank\")"
   ]
  },
  {
   "cell_type": "code",
   "execution_count": 17,
   "metadata": {
    "ExecuteTime": {
     "end_time": "2021-09-24T08:49:56.241073Z",
     "start_time": "2021-09-24T08:49:55.594076Z"
    }
   },
   "outputs": [
    {
     "ename": "NameError",
     "evalue": "name 'ElmosclstmChecker' is not defined",
     "output_type": "error",
     "traceback": [
      "\u001b[1;31m---------------------------------------------------------------------------\u001b[0m",
      "\u001b[1;31mNameError\u001b[0m                                 Traceback (most recent call last)",
      "\u001b[1;32m<ipython-input-17-1bc2fc292984>\u001b[0m in \u001b[0;36m<module>\u001b[1;34m\u001b[0m\n\u001b[1;32m----> 1\u001b[1;33m \u001b[0mchecker\u001b[0m \u001b[1;33m=\u001b[0m \u001b[0mElmosclstmChecker\u001b[0m\u001b[1;33m(\u001b[0m\u001b[1;33m)\u001b[0m\u001b[1;33m\u001b[0m\u001b[1;33m\u001b[0m\u001b[0m\n\u001b[0m\u001b[0;32m      2\u001b[0m \u001b[0mchecker\u001b[0m\u001b[1;33m.\u001b[0m\u001b[0mfrom_pretrained\u001b[0m\u001b[1;33m(\u001b[0m\u001b[1;33m)\u001b[0m\u001b[1;33m\u001b[0m\u001b[1;33m\u001b[0m\u001b[0m\n\u001b[0;32m      3\u001b[0m \u001b[1;34m\"\"\" spell correction \"\"\"\u001b[0m\u001b[1;33m\u001b[0m\u001b[1;33m\u001b[0m\u001b[0m\n\u001b[0;32m      4\u001b[0m \u001b[0mchecker\u001b[0m\u001b[1;33m.\u001b[0m\u001b[0mcorrect\u001b[0m\u001b[1;33m(\u001b[0m\u001b[1;34m\"I luk foward to receving your reply\"\u001b[0m\u001b[1;33m)\u001b[0m\u001b[1;33m\u001b[0m\u001b[1;33m\u001b[0m\u001b[0m\n",
      "\u001b[1;31mNameError\u001b[0m: name 'ElmosclstmChecker' is not defined"
     ]
    }
   ],
   "source": [
    "checker = ElmosclstmChecker()\n",
    "checker.from_pretrained()\n",
    "\"\"\" spell correction \"\"\"\n",
    "checker.correct(\"I luk foward to receving your reply\")"
   ]
  },
  {
   "cell_type": "code",
   "execution_count": null,
   "metadata": {
    "ExecuteTime": {
     "end_time": "2021-09-24T08:49:56.244074Z",
     "start_time": "2021-09-24T08:48:08.922Z"
    }
   },
   "outputs": [],
   "source": [
    "from neuspell import SclstmChecker\n",
    "\n",
    "checker = SclstmChecker()\n",
    "checker = checker.add_(\"elmo\", at=\"input\")"
   ]
  },
  {
   "cell_type": "code",
   "execution_count": null,
   "metadata": {
    "ExecuteTime": {
     "end_time": "2021-09-24T08:49:56.245077Z",
     "start_time": "2021-09-24T08:48:08.924Z"
    }
   },
   "outputs": [],
   "source": [
    "# from transformers import AutoModel, AutoTokenizer \n",
    "\n",
    "\n",
    "# # Define the model repo\n",
    "# model_name = \"murali1996/bert-base-cased-spell-correction\" \n",
    "\n",
    "\n",
    "# # Download pytorch model\n",
    "# model = AutoModel.from_pretrained(model_name)\n",
    "# tokenizer = AutoTokenizer.from_pretrained(model_name)\n",
    "\n",
    "\n",
    "# # Transform input tokens \n",
    "# inputs = tokenizer(\"Hello world!\", return_tensors=\"pt\")\n",
    "\n",
    "# # Model apply\n",
    "# outputs = model(**inputs)"
   ]
  },
  {
   "cell_type": "code",
   "execution_count": null,
   "metadata": {
    "ExecuteTime": {
     "end_time": "2021-09-24T08:49:56.246075Z",
     "start_time": "2021-09-24T08:48:08.928Z"
    }
   },
   "outputs": [],
   "source": [
    "outputs.items()"
   ]
  },
  {
   "cell_type": "code",
   "execution_count": null,
   "metadata": {
    "ExecuteTime": {
     "end_time": "2021-09-24T08:49:56.248076Z",
     "start_time": "2021-09-24T08:48:08.929Z"
    }
   },
   "outputs": [],
   "source": [
    "import pandas as pd\n",
    "import numpy as np\n",
    "ab_df = pd.DataFrame({'A':[[],['abc'],['xyz']], 'B':[['pqr'],['abc'],['xyz']]})\n",
    "display(ab_df)\n",
    "ab_df['A'] = np.where(ab_df['A'].apply(len)==0,'NOVALUE',ab_df['A'])\n",
    "ab_df"
   ]
  },
  {
   "cell_type": "code",
   "execution_count": null,
   "metadata": {
    "ExecuteTime": {
     "end_time": "2021-09-24T08:49:56.250075Z",
     "start_time": "2021-09-24T08:48:08.931Z"
    }
   },
   "outputs": [],
   "source": [
    "from nltk.tokenize import RegexpTokenizer\n",
    "tokenizer = RegexpTokenizer(r\"[^.;]+|\\band\\b|[,\\n]+\")\n",
    "def block_sentenses_ls(itext, tokenizer):\n",
    "    itext_ls = list(map(str.strip, tokenizer.tokenize(itext)))\n",
    "    if len(itext_ls)==1:\n",
    "        text_check_and=itext_ls[0]\n",
    "        itext_ls=text_check_and.split('and')\n",
    "    if itext_ls==[]:\n",
    "        return ['novalue']\n",
    "    return itext_ls\n",
    "block_sentenses_ls('.',tokenizer)"
   ]
  },
  {
   "cell_type": "code",
   "execution_count": null,
   "metadata": {
    "ExecuteTime": {
     "end_time": "2021-09-10T02:32:29.509479Z",
     "start_time": "2021-09-10T02:32:29.499469Z"
    }
   },
   "outputs": [],
   "source": []
  },
  {
   "cell_type": "code",
   "execution_count": null,
   "metadata": {
    "ExecuteTime": {
     "end_time": "2021-09-10T02:23:46.245200Z",
     "start_time": "2021-09-10T02:23:46.186204Z"
    }
   },
   "outputs": [],
   "source": []
  },
  {
   "cell_type": "code",
   "execution_count": null,
   "metadata": {
    "ExecuteTime": {
     "end_time": "2021-09-24T08:49:56.251077Z",
     "start_time": "2021-09-24T08:48:08.934Z"
    }
   },
   "outputs": [],
   "source": [
    "ab_df['A'] = np.where(ab_df['A']==[],['not_scored'],ab_df['A'])\n",
    "ab_df"
   ]
  },
  {
   "cell_type": "code",
   "execution_count": null,
   "metadata": {
    "ExecuteTime": {
     "end_time": "2021-09-24T08:49:56.253076Z",
     "start_time": "2021-09-24T08:48:08.940Z"
    }
   },
   "outputs": [],
   "source": [
    "ab_df['A'].replace([],['not_scored'])"
   ]
  },
  {
   "cell_type": "code",
   "execution_count": null,
   "metadata": {},
   "outputs": [],
   "source": []
  }
 ],
 "metadata": {
  "kernelspec": {
   "display_name": "transformers_dl",
   "language": "python",
   "name": "transformers_dl"
  },
  "language_info": {
   "codemirror_mode": {
    "name": "ipython",
    "version": 3
   },
   "file_extension": ".py",
   "mimetype": "text/x-python",
   "name": "python",
   "nbconvert_exporter": "python",
   "pygments_lexer": "ipython3",
   "version": "3.7.10"
  }
 },
 "nbformat": 4,
 "nbformat_minor": 4
}
